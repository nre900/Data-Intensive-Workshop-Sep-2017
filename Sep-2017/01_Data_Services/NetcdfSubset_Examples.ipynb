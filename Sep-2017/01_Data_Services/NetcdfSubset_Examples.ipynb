{
 "cells": [
  {
   "cell_type": "markdown",
   "metadata": {},
   "source": [
    "# ![](../nci-logo.png)\n",
    "\n",
    "---------\n",
    "\n",
    "# THREDDS Data Server: Netcdf Subset Service (NCSS)\n",
    "\n",
    "\n",
    "\n",
    "### In this notebook:\n",
    "\n",
    "- <a href='#part1'>Using THREDDS Web Coverage Service to request GeoTIFF data</a>\n",
    "\n",
    "\n",
    "#### The following material uses Geoscience Australia's Landsat 8 Data Collection which is available under the Creative Commons License 4.0. For more information on the collection and licensing, please [click here](http://geonetwork.nci.org.au/geonetwork/srv/eng/catalog.search#/metadata/3a2cd509-0e82-4381-98c7-522756da533b). \n",
    "\n",
    "---------\n",
    "\n",
    "<br>\n",
    "\n"
   ]
  },
  {
   "cell_type": "markdown",
   "metadata": {},
   "source": [
    "# THREDDS Netcdf Subset Service (NCSS)\n",
    "\n",
    "The Netcdf Subset Service (NCSS) is one of the data service endpoints available on many of NCI's hosted data collections. NCSS is currently available on NCI's gridded datasets and allows users to request spatial and temporal queries using longitude and latitude values directly. "
   ]
  },
  {
   "cell_type": "markdown",
   "metadata": {},
   "source": [
    "<a id='part1'></a> \n",
    "### Using Netcdf Subset interactively through THREDDS"
   ]
  },
  {
   "cell_type": "markdown",
   "metadata": {},
   "source": [
    "#### Begin by navigating to the THREDDS catalog page for the selected data file (http://dapds00.nci.org.au/thredds/catalog/rs0/datacube/002/LS8_OLI_NBAR/-10_-21/catalog.html?dataset=LS8_OLI_NBAR/-10_-21/LS8_OLI_NBAR_3577_-10_-21_2013_v1496403192.nc): \n",
    "\n",
    "<img src=\"./images/ncss1.png\">\n",
    "\n",
    "\n",
    "#### Next, decide whether you want to extract a spatial subset (left/red arrow), defined by a bounding box, or a single point in space (right/green arrow), defined by a single latitude and longitude:\n",
    "<img src=\"./images/ncss2.png\">\n",
    "\n",
    "#### Then proceed by selecting the desired variables, spatial (or lat/lon point) and temporal extents. As selections are made, the NCSS Request URL (near bottom of the page) will update with these parameters. \n",
    "\n",
    "<img src=\"./images/ncss3.png\">\n",
    "\n",
    "\n",
    "#### Click 'Submit' and the request file should begin to download. Alternatively, the NCSS URL can be copied/pasted into a new web browser or used in workflows along with `wget` or `curl` commands. \n",
    "\n",
    "\n",
    "**Examples of different NCSS Request URLs:**\n",
    "> http://dapds00.nci.org.au/thredds/ncss/rs0/datacube/002/LS8_OLI_NBAR/-10_-21/LS8_OLI_NBAR_3577_-10_-21_2013_v1496403192.nc?var=green&latitude=-18.9&longitude=122.89&time_start=2013-04-15T01%3A51%3A20Z&time_end=2013-12-27T01%3A51%3A07Z&accept=netCDF\n",
    "\n",
    "> http://dapds00.nci.org.au/thredds/ncss/rs0/datacube/002/LS8_OLI_NBAR/-10_-21/LS8_OLI_NBAR_3577_-10_-21_2013_v1496403192.nc?var=swir1&var=swir2&latitude=-18.9&longitude=122.89&time_start=2013-04-15T01%3A51%3A20Z&time_end=2013-12-27T01%3A51%3A07Z&accept=csv_file\n",
    "\n",
    "\n",
    "\n",
    "<br>\n",
    "<br>\n",
    "<br>"
   ]
  },
  {
   "cell_type": "code",
   "execution_count": null,
   "metadata": {
    "collapsed": true
   },
   "outputs": [],
   "source": []
  }
 ],
 "metadata": {
  "anaconda-cloud": {},
  "kernelspec": {
   "display_name": "Python 3",
   "language": "python",
   "name": "python3"
  },
  "language_info": {
   "codemirror_mode": {
    "name": "ipython",
    "version": 3
   },
   "file_extension": ".py",
   "mimetype": "text/x-python",
   "name": "python",
   "nbconvert_exporter": "python",
   "pygments_lexer": "ipython3",
   "version": "3.6.2"
  }
 },
 "nbformat": 4,
 "nbformat_minor": 1
}
